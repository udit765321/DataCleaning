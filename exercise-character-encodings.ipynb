{
 "cells": [
  {
   "cell_type": "markdown",
   "id": "81919b02",
   "metadata": {
    "papermill": {
     "duration": 0.007047,
     "end_time": "2022-06-13T09:07:47.406355",
     "exception": false,
     "start_time": "2022-06-13T09:07:47.399308",
     "status": "completed"
    },
    "tags": []
   },
   "source": [
    "**This notebook is an exercise in the [Data Cleaning](https://www.kaggle.com/learn/data-cleaning) course.  You can reference the tutorial at [this link](https://www.kaggle.com/alexisbcook/character-encodings).**\n",
    "\n",
    "---\n"
   ]
  },
  {
   "cell_type": "markdown",
   "id": "d3782653",
   "metadata": {
    "papermill": {
     "duration": 0.003464,
     "end_time": "2022-06-13T09:07:47.413693",
     "exception": false,
     "start_time": "2022-06-13T09:07:47.410229",
     "status": "completed"
    },
    "tags": []
   },
   "source": [
    "In this exercise, you'll apply what you learned in the **Character encodings** tutorial.\n",
    "\n",
    "# Setup\n",
    "\n",
    "The questions below will give you feedback on your work. Run the following cell to set up the feedback system."
   ]
  },
  {
   "cell_type": "code",
   "execution_count": 1,
   "id": "9579c841",
   "metadata": {
    "execution": {
     "iopub.execute_input": "2022-06-13T09:07:47.422971Z",
     "iopub.status.busy": "2022-06-13T09:07:47.422340Z",
     "iopub.status.idle": "2022-06-13T09:07:47.496362Z",
     "shell.execute_reply": "2022-06-13T09:07:47.495392Z"
    },
    "papermill": {
     "duration": 0.081028,
     "end_time": "2022-06-13T09:07:47.498388",
     "exception": false,
     "start_time": "2022-06-13T09:07:47.417360",
     "status": "completed"
    },
    "tags": []
   },
   "outputs": [
    {
     "name": "stdout",
     "output_type": "stream",
     "text": [
      "Setup Complete\n"
     ]
    }
   ],
   "source": [
    "from learntools.core import binder\n",
    "binder.bind(globals())\n",
    "from learntools.data_cleaning.ex4 import *\n",
    "print(\"Setup Complete\")"
   ]
  },
  {
   "cell_type": "markdown",
   "id": "e8a625d7",
   "metadata": {
    "papermill": {
     "duration": 0.003625,
     "end_time": "2022-06-13T09:07:47.505875",
     "exception": false,
     "start_time": "2022-06-13T09:07:47.502250",
     "status": "completed"
    },
    "tags": []
   },
   "source": [
    "# Get our environment set up\n",
    "\n",
    "The first thing we'll need to do is load in the libraries we'll be using."
   ]
  },
  {
   "cell_type": "code",
   "execution_count": 2,
   "id": "f2c32c8f",
   "metadata": {
    "execution": {
     "iopub.execute_input": "2022-06-13T09:07:47.514644Z",
     "iopub.status.busy": "2022-06-13T09:07:47.514271Z",
     "iopub.status.idle": "2022-06-13T09:07:47.518628Z",
     "shell.execute_reply": "2022-06-13T09:07:47.517826Z"
    },
    "papermill": {
     "duration": 0.010864,
     "end_time": "2022-06-13T09:07:47.520513",
     "exception": false,
     "start_time": "2022-06-13T09:07:47.509649",
     "status": "completed"
    },
    "tags": []
   },
   "outputs": [],
   "source": [
    "# modules we'll use\n",
    "import pandas as pd\n",
    "import numpy as np\n",
    "\n",
    "# helpful character encoding module\n",
    "import chardet\n",
    "\n",
    "# set seed for reproducibility\n",
    "np.random.seed(0)"
   ]
  },
  {
   "cell_type": "markdown",
   "id": "b9db3573",
   "metadata": {
    "papermill": {
     "duration": 0.003477,
     "end_time": "2022-06-13T09:07:47.527786",
     "exception": false,
     "start_time": "2022-06-13T09:07:47.524309",
     "status": "completed"
    },
    "tags": []
   },
   "source": [
    "# 1) What are encodings?\n",
    "\n",
    "You're working with a dataset composed of bytes.  Run the code cell below to print a sample entry."
   ]
  },
  {
   "cell_type": "code",
   "execution_count": 3,
   "id": "aed069a3",
   "metadata": {
    "execution": {
     "iopub.execute_input": "2022-06-13T09:07:47.536472Z",
     "iopub.status.busy": "2022-06-13T09:07:47.536112Z",
     "iopub.status.idle": "2022-06-13T09:07:47.540770Z",
     "shell.execute_reply": "2022-06-13T09:07:47.540166Z"
    },
    "papermill": {
     "duration": 0.011076,
     "end_time": "2022-06-13T09:07:47.542593",
     "exception": false,
     "start_time": "2022-06-13T09:07:47.531517",
     "status": "completed"
    },
    "tags": []
   },
   "outputs": [
    {
     "name": "stdout",
     "output_type": "stream",
     "text": [
      "b'\\xa7A\\xa6n'\n",
      "data type: <class 'bytes'>\n"
     ]
    }
   ],
   "source": [
    "sample_entry = b'\\xa7A\\xa6n'\n",
    "print(sample_entry)\n",
    "print('data type:', type(sample_entry))"
   ]
  },
  {
   "cell_type": "markdown",
   "id": "d6838a79",
   "metadata": {
    "papermill": {
     "duration": 0.003545,
     "end_time": "2022-06-13T09:07:47.550017",
     "exception": false,
     "start_time": "2022-06-13T09:07:47.546472",
     "status": "completed"
    },
    "tags": []
   },
   "source": [
    "You notice that it doesn't use the standard UTF-8 encoding. \n",
    "\n",
    "Use the next code cell to create a variable `new_entry` that changes the encoding from `\"big5-tw\"` to `\"utf-8\"`.  `new_entry` should have the bytes datatype."
   ]
  },
  {
   "cell_type": "code",
   "execution_count": 4,
   "id": "8f7028a6",
   "metadata": {
    "execution": {
     "iopub.execute_input": "2022-06-13T09:07:47.559362Z",
     "iopub.status.busy": "2022-06-13T09:07:47.558466Z",
     "iopub.status.idle": "2022-06-13T09:07:47.568930Z",
     "shell.execute_reply": "2022-06-13T09:07:47.567951Z"
    },
    "papermill": {
     "duration": 0.01775,
     "end_time": "2022-06-13T09:07:47.571551",
     "exception": false,
     "start_time": "2022-06-13T09:07:47.553801",
     "status": "completed"
    },
    "tags": []
   },
   "outputs": [
    {
     "data": {
      "application/javascript": [
       "parent.postMessage({\"jupyterEvent\": \"custom.exercise_interaction\", \"data\": {\"outcomeType\": 1, \"valueTowardsCompletion\": 0.3333333333333333, \"interactionType\": 1, \"questionType\": 1, \"questionId\": \"1_EncodingsIntro\", \"learnToolsVersion\": \"0.3.4\", \"failureMessage\": \"\", \"exceptionClass\": \"\", \"trace\": \"\"}}, \"*\")"
      ],
      "text/plain": [
       "<IPython.core.display.Javascript object>"
      ]
     },
     "metadata": {},
     "output_type": "display_data"
    },
    {
     "data": {
      "text/markdown": [
       "<span style=\"color:#33cc33\">Correct</span>"
      ],
      "text/plain": [
       "Correct"
      ]
     },
     "metadata": {},
     "output_type": "display_data"
    }
   ],
   "source": [
    "str1=sample_entry.decode(\"big5-tw\")\n",
    "new_entry =str1.encode(\"utf-8\",errors=\"replace\")\n",
    "\n",
    "# Check your answer\n",
    "q1.check()"
   ]
  },
  {
   "cell_type": "code",
   "execution_count": 5,
   "id": "eb63d9b1",
   "metadata": {
    "execution": {
     "iopub.execute_input": "2022-06-13T09:07:47.581228Z",
     "iopub.status.busy": "2022-06-13T09:07:47.580390Z",
     "iopub.status.idle": "2022-06-13T09:07:47.584541Z",
     "shell.execute_reply": "2022-06-13T09:07:47.583901Z"
    },
    "papermill": {
     "duration": 0.010494,
     "end_time": "2022-06-13T09:07:47.586196",
     "exception": false,
     "start_time": "2022-06-13T09:07:47.575702",
     "status": "completed"
    },
    "tags": []
   },
   "outputs": [],
   "source": [
    "# Lines below will give you a hint or solution code\n",
    "#q1.hint()\n",
    "#q1.solution()"
   ]
  },
  {
   "cell_type": "markdown",
   "id": "a57ae202",
   "metadata": {
    "papermill": {
     "duration": 0.003612,
     "end_time": "2022-06-13T09:07:47.593785",
     "exception": false,
     "start_time": "2022-06-13T09:07:47.590173",
     "status": "completed"
    },
    "tags": []
   },
   "source": [
    "# 2) Reading in files with encoding problems\n",
    "\n",
    "Use the code cell below to read in this file at path `\"../input/fatal-police-shootings-in-the-us/PoliceKillingsUS.csv\"`.  \n",
    "\n",
    "Figure out what the correct encoding should be and read in the file to a DataFrame `police_killings`."
   ]
  },
  {
   "cell_type": "code",
   "execution_count": 6,
   "id": "d9d7ec71",
   "metadata": {
    "execution": {
     "iopub.execute_input": "2022-06-13T09:07:47.603202Z",
     "iopub.status.busy": "2022-06-13T09:07:47.602689Z",
     "iopub.status.idle": "2022-06-13T09:07:47.624622Z",
     "shell.execute_reply": "2022-06-13T09:07:47.623837Z"
    },
    "papermill": {
     "duration": 0.028845,
     "end_time": "2022-06-13T09:07:47.626477",
     "exception": false,
     "start_time": "2022-06-13T09:07:47.597632",
     "status": "completed"
    },
    "tags": []
   },
   "outputs": [
    {
     "data": {
      "application/javascript": [
       "parent.postMessage({\"jupyterEvent\": \"custom.exercise_interaction\", \"data\": {\"outcomeType\": 1, \"valueTowardsCompletion\": 0.3333333333333333, \"interactionType\": 1, \"questionType\": 1, \"questionId\": \"2_ReadIn\", \"learnToolsVersion\": \"0.3.4\", \"failureMessage\": \"\", \"exceptionClass\": \"\", \"trace\": \"\"}}, \"*\")"
      ],
      "text/plain": [
       "<IPython.core.display.Javascript object>"
      ]
     },
     "metadata": {},
     "output_type": "display_data"
    },
    {
     "data": {
      "text/markdown": [
       "<span style=\"color:#33cc33\">Correct</span>"
      ],
      "text/plain": [
       "Correct"
      ]
     },
     "metadata": {},
     "output_type": "display_data"
    }
   ],
   "source": [
    "# TODO: Load in the DataFrame correctly.\n",
    "# police_killings = ____\n",
    "police_killings= pd.read_csv(\"../input/fatal-police-shootings-in-the-us/PoliceKillingsUS.csv\", encoding='Windows-1252')\n",
    "# Check your answer\n",
    "q2.check()\n"
   ]
  },
  {
   "cell_type": "markdown",
   "id": "f03d1567",
   "metadata": {
    "papermill": {
     "duration": 0.004165,
     "end_time": "2022-06-13T09:07:47.635141",
     "exception": false,
     "start_time": "2022-06-13T09:07:47.630976",
     "status": "completed"
    },
    "tags": []
   },
   "source": [
    "Feel free to use any additional code cells for supplemental work.  To get credit for finishing this question, you'll need to run `q2.check()` and get a result of **Correct**."
   ]
  },
  {
   "cell_type": "code",
   "execution_count": 7,
   "id": "6a96aefe",
   "metadata": {
    "execution": {
     "iopub.execute_input": "2022-06-13T09:07:47.645748Z",
     "iopub.status.busy": "2022-06-13T09:07:47.644758Z",
     "iopub.status.idle": "2022-06-13T09:07:47.649057Z",
     "shell.execute_reply": "2022-06-13T09:07:47.648222Z"
    },
    "papermill": {
     "duration": 0.011468,
     "end_time": "2022-06-13T09:07:47.650941",
     "exception": false,
     "start_time": "2022-06-13T09:07:47.639473",
     "status": "completed"
    },
    "tags": []
   },
   "outputs": [],
   "source": [
    "# (Optional) Use this code cell for any additional work."
   ]
  },
  {
   "cell_type": "code",
   "execution_count": 8,
   "id": "5f77c6b1",
   "metadata": {
    "execution": {
     "iopub.execute_input": "2022-06-13T09:07:47.661335Z",
     "iopub.status.busy": "2022-06-13T09:07:47.660647Z",
     "iopub.status.idle": "2022-06-13T09:07:47.664329Z",
     "shell.execute_reply": "2022-06-13T09:07:47.663553Z"
    },
    "papermill": {
     "duration": 0.010627,
     "end_time": "2022-06-13T09:07:47.665957",
     "exception": false,
     "start_time": "2022-06-13T09:07:47.655330",
     "status": "completed"
    },
    "tags": []
   },
   "outputs": [],
   "source": [
    "# Lines below will give you a hint or solution code\n",
    "#q2.hint()\n",
    "#q2.solution()"
   ]
  },
  {
   "cell_type": "markdown",
   "id": "9148e72c",
   "metadata": {
    "papermill": {
     "duration": 0.003998,
     "end_time": "2022-06-13T09:07:47.674228",
     "exception": false,
     "start_time": "2022-06-13T09:07:47.670230",
     "status": "completed"
    },
    "tags": []
   },
   "source": [
    "# 3) Saving your files with UTF-8 encoding\n",
    "\n",
    "Save a version of the police killings dataset to CSV with UTF-8 encoding.  Your answer will be marked correct after saving this file.  \n",
    "\n",
    "Note: When using the `to_csv()` method, supply only the name of the file (e.g., `\"my_file.csv\"`).  This saves the file at the filepath `\"/kaggle/working/my_file.csv\"`."
   ]
  },
  {
   "cell_type": "code",
   "execution_count": 9,
   "id": "fbb618bd",
   "metadata": {
    "execution": {
     "iopub.execute_input": "2022-06-13T09:07:47.684761Z",
     "iopub.status.busy": "2022-06-13T09:07:47.683893Z",
     "iopub.status.idle": "2022-06-13T09:07:47.713775Z",
     "shell.execute_reply": "2022-06-13T09:07:47.713164Z"
    },
    "papermill": {
     "duration": 0.037286,
     "end_time": "2022-06-13T09:07:47.715717",
     "exception": false,
     "start_time": "2022-06-13T09:07:47.678431",
     "status": "completed"
    },
    "tags": []
   },
   "outputs": [
    {
     "data": {
      "application/javascript": [
       "parent.postMessage({\"jupyterEvent\": \"custom.exercise_interaction\", \"data\": {\"outcomeType\": 1, \"valueTowardsCompletion\": 0.3333333333333333, \"interactionType\": 1, \"questionType\": 2, \"questionId\": \"3_SaveCSV\", \"learnToolsVersion\": \"0.3.4\", \"failureMessage\": \"\", \"exceptionClass\": \"\", \"trace\": \"\"}}, \"*\")"
      ],
      "text/plain": [
       "<IPython.core.display.Javascript object>"
      ]
     },
     "metadata": {},
     "output_type": "display_data"
    },
    {
     "data": {
      "text/markdown": [
       "<span style=\"color:#33cc33\">Correct</span>"
      ],
      "text/plain": [
       "Correct"
      ]
     },
     "metadata": {},
     "output_type": "display_data"
    }
   ],
   "source": [
    "# TODO: Save the police killings dataset to CSV\n",
    "____\n",
    "police_killings.to_csv(\"policeKillingsUS-utf8.csv\")\n",
    "# Check your answer\n",
    "q3.check()"
   ]
  },
  {
   "cell_type": "code",
   "execution_count": 10,
   "id": "ad23cd1d",
   "metadata": {
    "execution": {
     "iopub.execute_input": "2022-06-13T09:07:47.726463Z",
     "iopub.status.busy": "2022-06-13T09:07:47.726113Z",
     "iopub.status.idle": "2022-06-13T09:07:47.729700Z",
     "shell.execute_reply": "2022-06-13T09:07:47.728677Z"
    },
    "papermill": {
     "duration": 0.01142,
     "end_time": "2022-06-13T09:07:47.731607",
     "exception": false,
     "start_time": "2022-06-13T09:07:47.720187",
     "status": "completed"
    },
    "tags": []
   },
   "outputs": [],
   "source": [
    "# Lines below will give you a hint or solution code\n",
    "#q3.hint()\n",
    "#q3.solution()"
   ]
  },
  {
   "cell_type": "markdown",
   "id": "e8a62707",
   "metadata": {
    "papermill": {
     "duration": 0.004284,
     "end_time": "2022-06-13T09:07:47.740488",
     "exception": false,
     "start_time": "2022-06-13T09:07:47.736204",
     "status": "completed"
    },
    "tags": []
   },
   "source": [
    "# (Optional) More practice\n",
    "\n",
    "Check out [this dataset of files in different character encodings](https://www.kaggle.com/rtatman/character-encoding-examples). Can you read in all the files with their original encodings and them save them out as UTF-8 files?\n",
    "\n",
    "If you have a file that's in UTF-8 but has just a couple of weird-looking characters in it, you can try out the [ftfy module](https://ftfy.readthedocs.io/en/latest/#) and see if it helps. \n",
    "\n",
    "# Keep going\n",
    "\n",
    "In the final lesson, learn how to [**clean up inconsistent text entries**](https://www.kaggle.com/alexisbcook/inconsistent-data-entry) in your dataset."
   ]
  },
  {
   "cell_type": "markdown",
   "id": "d8d415fa",
   "metadata": {
    "papermill": {
     "duration": 0.004158,
     "end_time": "2022-06-13T09:07:47.749167",
     "exception": false,
     "start_time": "2022-06-13T09:07:47.745009",
     "status": "completed"
    },
    "tags": []
   },
   "source": [
    "---\n",
    "\n",
    "\n",
    "\n",
    "\n",
    "*Have questions or comments? Visit the [course discussion forum](https://www.kaggle.com/learn/data-cleaning/discussion) to chat with other learners.*"
   ]
  }
 ],
 "metadata": {
  "kernelspec": {
   "display_name": "Python 3",
   "language": "python",
   "name": "python3"
  },
  "language_info": {
   "codemirror_mode": {
    "name": "ipython",
    "version": 3
   },
   "file_extension": ".py",
   "mimetype": "text/x-python",
   "name": "python",
   "nbconvert_exporter": "python",
   "pygments_lexer": "ipython3",
   "version": "3.7.12"
  },
  "papermill": {
   "default_parameters": {},
   "duration": 9.211051,
   "end_time": "2022-06-13T09:07:48.373677",
   "environment_variables": {},
   "exception": null,
   "input_path": "__notebook__.ipynb",
   "output_path": "__notebook__.ipynb",
   "parameters": {},
   "start_time": "2022-06-13T09:07:39.162626",
   "version": "2.3.4"
  }
 },
 "nbformat": 4,
 "nbformat_minor": 5
}
